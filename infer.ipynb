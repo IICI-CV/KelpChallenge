{
 "cells": [
  {
   "cell_type": "code",
   "execution_count": 11,
   "metadata": {},
   "outputs": [
    {
     "ename": "FileNotFoundError",
     "evalue": "[Errno 2] No such file or directory: 'exp/kelp/train_fabric/unet_segrsnet-14_bce_adamw_256x/best.pth'",
     "output_type": "error",
     "traceback": [
      "\u001b[0;31m---------------------------------------------------------------------------\u001b[0m",
      "\u001b[0;31mFileNotFoundError\u001b[0m                         Traceback (most recent call last)",
      "Cell \u001b[0;32mIn[11], line 28\u001b[0m\n\u001b[1;32m     19\u001b[0m ENCODER_NAME \u001b[38;5;241m=\u001b[39m \u001b[38;5;124mf\u001b[39m\u001b[38;5;124m\"\u001b[39m\u001b[38;5;124msegrsnet-\u001b[39m\u001b[38;5;132;01m{\u001b[39;00mVERSION\u001b[38;5;132;01m}\u001b[39;00m\u001b[38;5;124m\"\u001b[39m\n\u001b[1;32m     21\u001b[0m model \u001b[38;5;241m=\u001b[39m smp\u001b[38;5;241m.\u001b[39mUnet(\n\u001b[1;32m     22\u001b[0m             encoder_name\u001b[38;5;241m=\u001b[39mENCODER_NAME,\n\u001b[1;32m     23\u001b[0m             classes\u001b[38;5;241m=\u001b[39m\u001b[38;5;241m1\u001b[39m,\n\u001b[1;32m     24\u001b[0m             encoder_weights\u001b[38;5;241m=\u001b[39m\u001b[38;5;28;01mNone\u001b[39;00m,\n\u001b[1;32m     25\u001b[0m             in_channels\u001b[38;5;241m=\u001b[39m\u001b[38;5;241m7\u001b[39m\n\u001b[1;32m     26\u001b[0m         )\n\u001b[0;32m---> 28\u001b[0m state_dict \u001b[38;5;241m=\u001b[39m \u001b[43mtorch\u001b[49m\u001b[38;5;241;43m.\u001b[39;49m\u001b[43mload\u001b[49m\u001b[43m(\u001b[49m\u001b[43mCHECK_POINT_PATH\u001b[49m\u001b[43m,\u001b[49m\u001b[43m \u001b[49m\u001b[43mmap_location\u001b[49m\u001b[38;5;241;43m=\u001b[39;49m\u001b[43mtorch\u001b[49m\u001b[38;5;241;43m.\u001b[39;49m\u001b[43mdevice\u001b[49m\u001b[43m(\u001b[49m\u001b[38;5;124;43m\"\u001b[39;49m\u001b[38;5;124;43mcpu\u001b[39;49m\u001b[38;5;124;43m\"\u001b[39;49m\u001b[43m)\u001b[49m\u001b[43m)\u001b[49m[\u001b[38;5;124m\"\u001b[39m\u001b[38;5;124mmodel\u001b[39m\u001b[38;5;124m\"\u001b[39m]\n\u001b[1;32m     29\u001b[0m state_dict \u001b[38;5;241m=\u001b[39m {k\u001b[38;5;241m.\u001b[39mreplace(\u001b[38;5;124m\"\u001b[39m\u001b[38;5;124m_orig_mod.\u001b[39m\u001b[38;5;124m\"\u001b[39m, \u001b[38;5;124m\"\u001b[39m\u001b[38;5;124m\"\u001b[39m): v \u001b[38;5;28;01mfor\u001b[39;00m k, v \u001b[38;5;129;01min\u001b[39;00m state_dict\u001b[38;5;241m.\u001b[39mitems()}\n\u001b[1;32m     30\u001b[0m model\u001b[38;5;241m.\u001b[39mload_state_dict(state_dict, strict\u001b[38;5;241m=\u001b[39m\u001b[38;5;28;01mTrue\u001b[39;00m)\n",
      "File \u001b[0;32m~/miniconda3/envs/torch212/lib/python3.11/site-packages/torch/serialization.py:986\u001b[0m, in \u001b[0;36mload\u001b[0;34m(f, map_location, pickle_module, weights_only, mmap, **pickle_load_args)\u001b[0m\n\u001b[1;32m    983\u001b[0m \u001b[38;5;28;01mif\u001b[39;00m \u001b[38;5;124m'\u001b[39m\u001b[38;5;124mencoding\u001b[39m\u001b[38;5;124m'\u001b[39m \u001b[38;5;129;01mnot\u001b[39;00m \u001b[38;5;129;01min\u001b[39;00m pickle_load_args\u001b[38;5;241m.\u001b[39mkeys():\n\u001b[1;32m    984\u001b[0m     pickle_load_args[\u001b[38;5;124m'\u001b[39m\u001b[38;5;124mencoding\u001b[39m\u001b[38;5;124m'\u001b[39m] \u001b[38;5;241m=\u001b[39m \u001b[38;5;124m'\u001b[39m\u001b[38;5;124mutf-8\u001b[39m\u001b[38;5;124m'\u001b[39m\n\u001b[0;32m--> 986\u001b[0m \u001b[38;5;28;01mwith\u001b[39;00m \u001b[43m_open_file_like\u001b[49m\u001b[43m(\u001b[49m\u001b[43mf\u001b[49m\u001b[43m,\u001b[49m\u001b[43m \u001b[49m\u001b[38;5;124;43m'\u001b[39;49m\u001b[38;5;124;43mrb\u001b[39;49m\u001b[38;5;124;43m'\u001b[39;49m\u001b[43m)\u001b[49m \u001b[38;5;28;01mas\u001b[39;00m opened_file:\n\u001b[1;32m    987\u001b[0m     \u001b[38;5;28;01mif\u001b[39;00m _is_zipfile(opened_file):\n\u001b[1;32m    988\u001b[0m         \u001b[38;5;66;03m# The zipfile reader is going to advance the current file position.\u001b[39;00m\n\u001b[1;32m    989\u001b[0m         \u001b[38;5;66;03m# If we want to actually tail call to torch.jit.load, we need to\u001b[39;00m\n\u001b[1;32m    990\u001b[0m         \u001b[38;5;66;03m# reset back to the original position.\u001b[39;00m\n\u001b[1;32m    991\u001b[0m         orig_position \u001b[38;5;241m=\u001b[39m opened_file\u001b[38;5;241m.\u001b[39mtell()\n",
      "File \u001b[0;32m~/miniconda3/envs/torch212/lib/python3.11/site-packages/torch/serialization.py:435\u001b[0m, in \u001b[0;36m_open_file_like\u001b[0;34m(name_or_buffer, mode)\u001b[0m\n\u001b[1;32m    433\u001b[0m \u001b[38;5;28;01mdef\u001b[39;00m \u001b[38;5;21m_open_file_like\u001b[39m(name_or_buffer, mode):\n\u001b[1;32m    434\u001b[0m     \u001b[38;5;28;01mif\u001b[39;00m _is_path(name_or_buffer):\n\u001b[0;32m--> 435\u001b[0m         \u001b[38;5;28;01mreturn\u001b[39;00m \u001b[43m_open_file\u001b[49m\u001b[43m(\u001b[49m\u001b[43mname_or_buffer\u001b[49m\u001b[43m,\u001b[49m\u001b[43m \u001b[49m\u001b[43mmode\u001b[49m\u001b[43m)\u001b[49m\n\u001b[1;32m    436\u001b[0m     \u001b[38;5;28;01melse\u001b[39;00m:\n\u001b[1;32m    437\u001b[0m         \u001b[38;5;28;01mif\u001b[39;00m \u001b[38;5;124m'\u001b[39m\u001b[38;5;124mw\u001b[39m\u001b[38;5;124m'\u001b[39m \u001b[38;5;129;01min\u001b[39;00m mode:\n",
      "File \u001b[0;32m~/miniconda3/envs/torch212/lib/python3.11/site-packages/torch/serialization.py:416\u001b[0m, in \u001b[0;36m_open_file.__init__\u001b[0;34m(self, name, mode)\u001b[0m\n\u001b[1;32m    415\u001b[0m \u001b[38;5;28;01mdef\u001b[39;00m \u001b[38;5;21m__init__\u001b[39m(\u001b[38;5;28mself\u001b[39m, name, mode):\n\u001b[0;32m--> 416\u001b[0m     \u001b[38;5;28msuper\u001b[39m()\u001b[38;5;241m.\u001b[39m\u001b[38;5;21m__init__\u001b[39m(\u001b[38;5;28;43mopen\u001b[39;49m\u001b[43m(\u001b[49m\u001b[43mname\u001b[49m\u001b[43m,\u001b[49m\u001b[43m \u001b[49m\u001b[43mmode\u001b[49m\u001b[43m)\u001b[49m)\n",
      "\u001b[0;31mFileNotFoundError\u001b[0m: [Errno 2] No such file or directory: 'exp/kelp/train_fabric/unet_segrsnet-14_bce_adamw_256x/best.pth'"
     ]
    }
   ],
   "source": [
    "import os\n",
    "import torch\n",
    "from monai.inferers import SlidingWindowInferer\n",
    "from PIL import Image\n",
    "import numpy as np\n",
    "from torchvision import transforms as T\n",
    "import matplotlib.pyplot as plt\n",
    "import ttach as tta\n",
    "import models.my_smp as smp\n",
    "import tifffile\n",
    "\n",
    "CHECK_POINT_PATH = \"exp/kelp/train_fabric/unet_segrsnet-14_bce_adamw_256x/best.pth\"\n",
    "\n",
    "# create .cache folder\n",
    "DATASET = \"kelp\"\n",
    "# Available models: segrsnet-14, segrsnet-26, segrsnet-50, segrsnet-101\n",
    "VERSION = \"14\"  # Choose segrsnet-14\n",
    "\n",
    "ENCODER_NAME = f\"segrsnet-{VERSION}\"\n",
    "\n",
    "model = smp.Unet(\n",
    "            encoder_name=ENCODER_NAME,\n",
    "            classes=1,\n",
    "            encoder_weights=None,\n",
    "            in_channels=7\n",
    "        )\n",
    "\n",
    "state_dict = torch.load(CHECK_POINT_PATH, map_location=torch.device(\"cpu\"))[\"model\"]\n",
    "state_dict = {k.replace(\"_orig_mod.\", \"\"): v for k, v in state_dict.items()}\n",
    "model.load_state_dict(state_dict, strict=True)"
   ]
  },
  {
   "cell_type": "code",
   "execution_count": null,
   "metadata": {},
   "outputs": [
    {
     "name": "stdout",
     "output_type": "stream",
     "text": [
      "Using cuda for inference\n"
     ]
    },
    {
     "name": "stderr",
     "output_type": "stream",
     "text": [
      "  0%|          | 0/1426 [00:00<?, ?it/s]"
     ]
    },
    {
     "name": "stderr",
     "output_type": "stream",
     "text": [
      "100%|██████████| 1426/1426 [02:14<00:00, 10.58it/s]\n"
     ]
    }
   ],
   "source": [
    "# use monai to predict the fully resolution image\n",
    "from datasets.kelp import KelpDataset\n",
    "from tqdm import tqdm\n",
    "\n",
    "\n",
    "sliding_window_inferer = SlidingWindowInferer(\n",
    "    roi_size=(320) * 2, sw_batch_size=4\n",
    ")\n",
    "\n",
    "# do inference\n",
    "model.eval()\n",
    "\n",
    "now_device = torch.device(\"cpu\")\n",
    "\n",
    "if torch.cuda.is_available():\n",
    "    now_device = torch.device(\"cuda\")\n",
    "elif torch.backends.mps.is_built():\n",
    "    now_device = torch.device(\"mps\")\n",
    "\n",
    "print(f\"Using {now_device} for inference\")\n",
    "model = model.to(device=now_device)\n",
    "\n",
    "DATASET_PATH = \"datasets/datasets\"\n",
    "\n",
    "test_set = KelpDataset(\n",
    "            dataset_root=DATASET_PATH, ids_filepath=f'{DATASET_PATH}/need_pred_ids.txt', test_mode=True\n",
    "        )\n",
    "\n",
    "PRED_RESULTS_PATH = CHECK_POINT_PATH.replace(\"best.pth\", \"test_kelp\")\n",
    "if not os.path.exists(PRED_RESULTS_PATH):\n",
    "    os.makedirs(PRED_RESULTS_PATH)\n",
    "    \n",
    "tta_model = tta.SegmentationTTAWrapper(model, tta.aliases.d4_transform(), merge_mode='mean')\n",
    "\n",
    "for i in tqdm(range(len(test_set))):\n",
    "    img, _ = test_set[i]\n",
    "    img_name = os.path.basename(test_set.paths[i])\n",
    "    # print(img_name)\n",
    "    img = img.unsqueeze(0).to(device=now_device)\n",
    "    pred = sliding_window_inferer(img, tta_model)\n",
    "    pred = pred.sigmoid().squeeze(0).detach().cpu().numpy()\n",
    "    pred = np.where(pred > 0.5, 1, 0).astype(np.uint8)\n",
    "    pred = np.transpose(pred, (1, 2, 0))\n",
    "    pred = np.squeeze(pred)\n",
    "    pred = pred.astype(np.uint8)\n",
    "    pred = Image.fromarray(pred)\n",
    "    pred.save(os.path.join(PRED_RESULTS_PATH, img_name.replace(\"_satellite\", \"_kelp\")))\n",
    "    # print(f\"Image {img_name} done\")"
   ]
  },
  {
   "cell_type": "code",
   "execution_count": null,
   "metadata": {},
   "outputs": [
    {
     "data": {
      "text/plain": [
       "<matplotlib.image.AxesImage at 0x7fe24fc193d0>"
      ]
     },
     "execution_count": 9,
     "metadata": {},
     "output_type": "execute_result"
    },
    {
     "data": {
      "image/png": "[encoded data removed]",
      "text/plain": [
       "<Figure size 640x480 with 1 Axes>"
      ]
     },
     "metadata": {},
     "output_type": "display_data"
    }
   ],
   "source": [
    "plt.imshow(pred)"
   ]
  },
  {
   "cell_type": "code",
   "execution_count": null,
   "metadata": {},
   "outputs": [
    {
     "data": {
      "text/plain": [
       "'exp/kelp/train_fabric/unet_segrsnet-14_bce_adamw_256x//unet_segrsnet-14_bce_adamw_256x.zip'"
      ]
     },
     "execution_count": 10,
     "metadata": {},
     "output_type": "execute_result"
    }
   ],
   "source": [
    "# zip the results\n",
    "import shutil\n",
    "# minimum size\n",
    "shutil.make_archive(PRED_RESULTS_PATH, 'zip', PRED_RESULTS_PATH)\n",
    "\n",
    "shutil.move(f\"{PRED_RESULTS_PATH}.zip\", f\"{CHECK_POINT_PATH.replace('best.pth', '')}/{CHECK_POINT_PATH.split('/')[-2]}.zip\")"
   ]
  }
 ],
 "metadata": {
  "kernelspec": {
   "display_name": "torch212",
   "language": "python",
   "name": "python3"
  },
  "language_info": {
   "codemirror_mode": {
    "name": "ipython",
    "version": 3
   },
   "file_extension": ".py",
   "mimetype": "text/x-python",
   "name": "python",
   "nbconvert_exporter": "python",
   "pygments_lexer": "ipython3",
   "version": "3.11.5"
  }
 },
 "nbformat": 4,
 "nbformat_minor": 2
}
